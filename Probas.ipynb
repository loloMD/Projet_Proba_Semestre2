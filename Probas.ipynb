#PROJET PROBABILITES
\\
   > MICHELARD - MANDINE - LENOIR - TRAORE

\\
##Exercice 1

On considère un groupe de 14 personnes composé de 8 hommes et 6 femmes.
On tire 4 personnes au hasard dans le groupe. 

On note H l'évènement : "la personne tirée est un homme".

On note F l'évènement : "la personne tirée est une femme".

\\
1) On calcule la probabilité que le groupe ne comporte que 3 hommes.

On note $X$ la variable aléatoire comptant le nombre d'hommes pris dans le groupe. La variable $X$ suit la loi binomiale de paramètres $n=4$ et $p=\frac 4 7.$

On a donc $P(X=3) = {{4}\choose{3}} \cdot \left(\frac 4 7\right)^3 \cdot \left(\frac 3 7\right)\\
\qquad\qquad \approx 0.32 $

\\
2) On calcule la probabilité que le groupe ne contienne qu'une femme.

On note $Y$ la variable aléatoire comptant le nombre de femmes prises dans le groupe. Si le groupe contient $1$ femme alors il y aura 3 hommes.

On a donc $P(Y=1)=P(X=3)\\
\qquad\qquad \approx 0.32$

\\
3) On calcule la probabilité que le groupe contienne autant de femmes que d'hommes.

La seule possibilité est 2 femmes pour 2 hommes. 

Il vient $P(X=2)=P(Y=2)\\
\qquad\qquad = \binom 2 4 \cdot \left(\frac 4 7\right)^2 \cdot \left(\frac 3 7\right)^2\\
\qquad\qquad \approx 0.36
$

\\
##Exercice 2
Soit $f$ la fonction définie sur $\mathbb R$ par $f(x)=\frac 1 2 e^{-\vert x\vert}$.

\\
1) Montrons que $f$ est une fonction de densité.

On sait que $y\mapsto e^y $ est positive sur $\mathbb R$ donc $f(x)\ge 0, \forall x \in \mathbb R$.

De plus, $\int _{\mathbb R} f(x)\,dx = \int_{\mathbb R} \frac 1 2 e^{-\vert x\vert}\,dx \\
\qquad\qquad\;\, = \int _{- \infty}^0 \frac 1 2 e^x \,dx \; + \int_0^{+\infty} \frac 1 2 e^{-x} \,dx\\
\qquad\qquad\;\, =\frac 12 \left(\left[e^x\right]_{- \infty}^0 + \left[-e^{-x}\right]_0^{+\infty}\right)\\
\qquad\qquad\;\, = \frac 12 \left(e^0-0-0+e^0\right)\\
\qquad\qquad\;\, = 1
$

Donc $f$ est une fonction de densité.

\\
2) Soit $X$ la variable aléatoire de fonction de densité $f$. 

On détermine $F_X$ la fonction de répartition de $X$.

Soit $x\in \mathbb R$, on a $F_X(x)=\int _{-\infty}^x \frac 12 e^{-\vert t \vert}\,dt$

Si $x\le 0$, on a $F_X(x)=\int _{-\infty}^x \frac 12 e^{-\vert t \vert}\,dt\\
\quad\quad\;\;\, = \int _{-\infty}^x \frac 12 e^t \,dt \\
\quad\quad\;\;\, = \frac 12 \left[e^t\right]_{-\infty}^x \\
\quad\quad\;\;\, = \frac 12 e^x
$

Si $x\gt 0$, on a $F_X(x)=\int _{-\infty}^x \frac 12 e^{-\vert t \vert}\,dt\\
\quad\quad\;\;\, = \int _{-\infty}^0 \frac 12 e^t \,dt + \int_0^x \frac 12 e^{-t}\,dt \\
\quad\quad\;\;\, = \frac 12 \left(\left[e^t\right]_{-\infty}^0 + \left[-e^{-t}\right]_0^x\right) \\
\quad\quad\;\;\, = \frac 12 \left(e^0-0-e^{-x}+e^0\right)\\
\quad\quad\;\;\, = 1-\frac 12 e^{-x}
$

Donc $F_X(x)=\left\{\begin{array}{ll}
            \frac 12 e^x \quad\;\qquad\mbox {si $x\le 0$ }\\
            1-\frac 12 e^{-x} \quad\mbox{si $x\gt 0$}
\end{array}\right.$

\\
##Exercice 3
1) Pour avoir une loi de couple, il faut $\frac 1{16} + \frac 14 + \frac 38 + a = 1 \Leftarrow\Rightarrow a = \frac 5 {16}$

\\
2) On donne la loi de $X$ et de $Y$ à l'aide de la formule des probabilités totales.

On a $X(\Omega)=\{0;1\}$

$\begin{array}{lcr}
\mbox i & 0 & 1 \\
\mbox {P(X=i)} & \frac 5 {16} & \frac {11} {16}
\end{array}$

\\
On a $Y(\Omega)=\{0;1\}$

$\begin{array}{lcr}
\mbox j & 0 & 1 \\
\mbox {P(Y=j)} & \frac 6 {16} & \frac {10} {16}
\end{array}$

\\
3) On calcule $cov(X,Y)$.

On a $cov(X,Y)=E[X\cdot Y]-E[X]\cdot E[Y]$.

On a $E[X]=0\cdot \frac 5 {16} + 1\cdot \frac {11}{16}=\frac{11}{16}\;$ et $\;E[Y]=0\cdot \frac 6 {16} + 1\cdot \frac {10}{16}=\frac{10}{16}$

De plus, $E[X\cdot Y]=\sum_{x\in X(\Omega),y\in Y(\Omega)}xy\cdot P(X=x,Y=y)\\
\qquad\quad\;\;\, = \frac 38$

D'où $cov(X,Y)=\frac 38 - \frac {110}{256}\\
\qquad\qquad\; = -\frac {14}{256}$

##Exercice 4
$X$ et $Y$ suivent une loi exponentielle de paramètre 1. 
On peut donc définir leur fonctions de densité :

$f_X(t)=f_Y(t)=\left\{\begin{array}{ll}
            1-e^{-t} \quad\;\qquad\mbox {si $t\ge 0$ }\\
            0  \quad\mbox{sinon}
\end{array}\right.$

1)On calcule la fonction de densité de $Z=X-Y$

Distinction de cas:

Si $t\ge 0$:

$$F(Z)=P(Z\ge t)=\int_{(x,y)\in \mathbb{R^2},x-y\le t} f_X(x)f_Y(y)dxdy=\int_0^{\infty}\int_0^{t+y}e^{-x}e^{-y}dxdy$$

$$=\int_0^{\infty}-e^{-2y-t}+e^{-y}dy=[-e^{-y}]_0^{\infty}-e^{-t}[\frac {-e^{-2y}}2]_0^{\infty}=1-\frac {e^{-t}}2$$

Si $t\lt 0$:

$$F(Z)=P(Z\le t)=P(X-Y\le t)=P(-X+Y\ge -t)$$
$$\int_{(x,y)\in \mathbb{R^2},y\ge -t+x} f_X(x)f_Y(y)dxdy=\int_{x\in \mathbb{R}}f_X(x)\int_{-t+x}^{\infty}f_Y(y)dydx$$
$$=\int_0^{\infty}e^{-x}[-e^{-y}]_{-t+x}^{\infty}dx$$
$$=\int_0^{\infty}e^{-x}e^{t-x}dx=e^{t}\int_0^{\infty}e^{-2x}dx$$
$$=\frac {e^t}2$$

On en conclut donc que 
$$
F_Z(t) = \left\{
    \begin{array}{ll}
        \frac {e^t}2 & \mbox{si } t\lt 0\\
        1-\frac {e^{-t}}2 & \mbox{sinon}
    \end{array}
\right.
$$

On a donc $$f_z(t)=\frac {e^{|t|}}2$$

2) Calculons $F_T(x)=P(T\le x)=P(|Z|\le x)$

Distinction de cas:

$\bullet x\lt 0:$

Or, dans ce cas le probabilité $P(|Z|\le x)=0$

$\bullet x\ge 0:$
$$P(|Z|\le x)=P(-x\le Z \le x)=F_Z(x)-F_Z(-x)=1-\frac {e^{-x}}2-\frac {e^{-x}}2=1-e^{-x}$$

donc que 
$$
F_T(x)= \left\{
    \begin{array}{ll}
        0 & \mbox{si } t\lt 0\\
        1-e^{-x} & \mbox{sinon}
    \end{array}
\right.
$$

Notre résultat est cohérent car on reconnaît l'expression de la fonction de répartition d'une loi exponentielle de paramètre 1 pour la variable T.
